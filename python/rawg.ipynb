{
 "cells": [
  {
   "cell_type": "code",
   "execution_count": 1,
   "metadata": {},
   "outputs": [],
   "source": [
    "import pickle\n",
    "out = open(\"xbox_games.pkl\",\"rb\")\n",
    "all_xbox_games = pickle.load(out)\n",
    "\n",
    "def read_game_pass_names(file_name):\n",
    "    with open(file_name, 'r') as file:\n",
    "        text = file.read()\n",
    "    return [name.strip().lower().replace(\"’\", \"'\") for name in text.split(\"\\n\") if name]\n",
    "\n",
    "game_pass_games_names = read_game_pass_names(\"game_pass_games_list.txt\")\n",
    "\n",
    "is_game_pass_game = lambda game: game[\"name\"].lower() in game_pass_games_names\n",
    "\n",
    "found_games = [game for game in all_xbox_games if is_game_pass_game(game)]"
   ]
  },
  {
   "cell_type": "code",
   "execution_count": 2,
   "metadata": {},
   "outputs": [
    {
     "data": {
      "text/plain": [
       "(array([200.,  98.,  27.,  11.,   4.,   3.,   4.,   1.,   0.,   2.]),\n",
       " array([ 0. ,  4.6,  9.2, 13.8, 18.4, 23. , 27.6, 32.2, 36.8, 41.4, 46. ]),\n",
       " <BarContainer object of 10 artists>)"
      ]
     },
     "execution_count": 2,
     "metadata": {},
     "output_type": "execute_result"
    },
    {
     "data": {
      "image/png": "[encoded data removed]",
      "text/plain": [
       "<Figure size 432x288 with 1 Axes>"
      ]
     },
     "metadata": {
      "needs_background": "light"
     },
     "output_type": "display_data"
    }
   ],
   "source": [
    "import matplotlib.pyplot as plt\n",
    "plt.hist([game[\"playtime\"] for game in found_games])"
   ]
  },
  {
   "cell_type": "code",
   "execution_count": 3,
   "metadata": {},
   "outputs": [
    {
     "data": {
      "text/plain": [
       "(array([ 18.,   0.,   0.,   0.,   3.,  11.,  31., 106., 116.,  65.]),\n",
       " array([0.   , 0.457, 0.914, 1.371, 1.828, 2.285, 2.742, 3.199, 3.656,\n",
       "        4.113, 4.57 ]),\n",
       " <BarContainer object of 10 artists>)"
      ]
     },
     "execution_count": 3,
     "metadata": {},
     "output_type": "execute_result"
    },
    {
     "data": {
      "image/png": "[encoded data removed]",
      "text/plain": [
       "<Figure size 432x288 with 1 Axes>"
      ]
     },
     "metadata": {
      "needs_background": "light"
     },
     "output_type": "display_data"
    }
   ],
   "source": [
    "plt.hist([game[\"rating\"] for game in found_games])"
   ]
  },
  {
   "cell_type": "code",
   "execution_count": 4,
   "metadata": {},
   "outputs": [],
   "source": [
    "metrics = ['name', 'playtime', 'released', 'rating', 'rating_top', 'ratings_count', 'suggestions_count', 'reviews_text_count', 'added', 'reviews_count']\n",
    "more_complex_metrics = ['genres', 'ratings', 'esrb_rating']"
   ]
  },
  {
   "cell_type": "code",
   "execution_count": 31,
   "metadata": {},
   "outputs": [
    {
     "data": {
      "text/plain": [
       "['action', 'role-playing-games-rpg']"
      ]
     },
     "execution_count": 31,
     "metadata": {},
     "output_type": "execute_result"
    }
   ],
   "source": [
    "[genre['slug'] for genre in found_games[0]['genres']]"
   ]
  },
  {
   "cell_type": "code",
   "execution_count": 34,
   "metadata": {},
   "outputs": [
    {
     "data": {
      "text/plain": [
       "[('exceptional', 2342), ('recommended', 1308), ('meh', 367), ('skip', 88)]"
      ]
     },
     "execution_count": 34,
     "metadata": {},
     "output_type": "execute_result"
    }
   ],
   "source": [
    "[(rating['title'], rating['count']) for rating in found_games[0]['ratings']]"
   ]
  },
  {
   "cell_type": "code",
   "execution_count": 36,
   "metadata": {},
   "outputs": [
    {
     "data": {
      "text/plain": [
       "'mature'"
      ]
     },
     "execution_count": 36,
     "metadata": {},
     "output_type": "execute_result"
    }
   ],
   "source": [
    "found_games[0]['esrb_rating']['slug']"
   ]
  },
  {
   "cell_type": "code",
   "execution_count": 3,
   "metadata": {},
   "outputs": [],
   "source": [
    "metrics = ['name', 'playtime', 'released', 'rating', 'rating_top', 'ratings_count', 'suggestions_count', 'reviews_text_count', 'added', 'reviews_count', 'esrb_rating']\n",
    "\n",
    "def genre_rules(game):\n",
    "    game_slug = game['slug']\n",
    "    genre_slugs = [genre['slug'] for genre in game['genres']]\n",
    "    return [f\"genre({game_slug},{genre_slug})\" for genre_slug in genre_slugs]\n",
    "\n",
    "def rating_rules(game):\n",
    "    game_slug = game['slug']\n",
    "    ratings = [(rating['title'], rating['count']) for rating in game['ratings']]\n",
    "    return [f\"ratings({game_slug},{title},{count})\" for (title, count) in ratings]\n",
    "\n",
    "def get_metric_value(game, metric):\n",
    "    if metric in ['name', 'released']:\n",
    "        return \"\\\"\" + game[metric] + \"\\\"\"\n",
    "    elif metric == 'esrb_rating':\n",
    "        return game[metric]['slug'] if game[metric] else None\n",
    "    return game[metric]\n",
    "\n",
    "def generate_rules_for_game(game):\n",
    "    rules = []\n",
    "    game_slug = game['slug']\n",
    "    for metric in metrics:\n",
    "        metric_value = get_metric_value(game, metric)\n",
    "        if metric_value: rules.append(f\"{metric}({game_slug},{metric_value})\")\n",
    "    rules += genre_rules(game)\n",
    "    rules += rating_rules(game)\n",
    "    return rules\n",
    "\n",
    "def generate_rules(games):\n",
    "    rules = []\n",
    "    for game in games:\n",
    "        rules += generate_rules_for_game(game)\n",
    "    # Sort rules - rules of the same type should be grouped together.\n",
    "    rules = sorted(rules)\n",
    "    return \".\\n\".join(rules) + \".\""
   ]
  },
  {
   "cell_type": "code",
   "execution_count": null,
   "metadata": {},
   "outputs": [],
   "source": [
    "print('\\n'.join([f\"image({game['slug']}, \\\"{game['background_image']}\\\").\" for game in found_games]))"
   ]
  },
  {
   "cell_type": "code",
   "execution_count": 8,
   "metadata": {},
   "outputs": [
    {
     "data": {
      "text/plain": [
       "dict_keys(['slug', 'name', 'playtime', 'platforms', 'stores', 'released', 'tba', 'background_image', 'rating', 'rating_top', 'ratings', 'ratings_count', 'reviews_text_count', 'added', 'added_by_status', 'metacritic', 'suggestions_count', 'updated', 'id', 'score', 'clip', 'tags', 'esrb_rating', 'user_game', 'reviews_count', 'saturated_color', 'dominant_color', 'short_screenshots', 'parent_platforms', 'genres'])"
      ]
     },
     "execution_count": 8,
     "metadata": {},
     "output_type": "execute_result"
    }
   ],
   "source": [
    "found_games[0].keys()"
   ]
  },
  {
   "cell_type": "code",
   "execution_count": 6,
   "metadata": {},
   "outputs": [],
   "source": [
    "import pandas as pd\n",
    "rows = []\n",
    "for game in found_games:\n",
    "    row = {\"slug\": game['slug']}\n",
    "    for metric in metrics + [\"background_image\"]:\n",
    "        if metric == \"esrb_rating\":\n",
    "            value = game[metric]['slug'] if game[metric] else None\n",
    "        else:\n",
    "            value = game[metric] \n",
    "        row[metric] = value\n",
    "    rows.append(row)\n",
    "pd.DataFrame(rows).to_csv(\"rawg.csv\")"
   ]
  },
  {
   "cell_type": "code",
   "execution_count": null,
   "metadata": {},
   "outputs": [],
   "source": []
  }
 ],
 "metadata": {
  "kernelspec": {
   "display_name": "Python 3.9.10 ('base')",
   "language": "python",
   "name": "python3"
  },
  "language_info": {
   "codemirror_mode": {
    "name": "ipython",
    "version": 3
   },
   "file_extension": ".py",
   "mimetype": "text/x-python",
   "name": "python",
   "nbconvert_exporter": "python",
   "pygments_lexer": "ipython3",
   "version": "3.9.10"
  },
  "orig_nbformat": 4,
  "vscode": {
   "interpreter": {
    "hash": "0d7d4db0a1cfb03b8f592437925452112c263745f16979c55c6eaf2bdf27fbce"
   }
  }
 },
 "nbformat": 4,
 "nbformat_minor": 2
}
