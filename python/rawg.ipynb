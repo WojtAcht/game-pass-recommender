{
 "cells": [
  {
   "cell_type": "code",
   "execution_count": 1,
   "metadata": {},
   "outputs": [],
   "source": [
    "import pickle\n",
    "out = open(\"xbox_games.pkl\",\"rb\")\n",
    "all_xbox_games = pickle.load(out)\n",
    "\n",
    "def read_game_pass_names(file_name):\n",
    "    with open(file_name, 'r') as file:\n",
    "        text = file.read()\n",
    "    return [name.strip().lower().replace(\"’\", \"'\") for name in text.split(\"\\n\") if name]\n",
    "\n",
    "game_pass_games_names = read_game_pass_names(\"game_pass_games_list.txt\")\n",
    "\n",
    "is_game_pass_game = lambda game: game[\"name\"].lower() in game_pass_games_names\n",
    "\n",
    "found_games = [game for game in all_xbox_games if is_game_pass_game(game)]"
   ]
  },
  {
   "cell_type": "code",
   "execution_count": 2,
   "metadata": {},
   "outputs": [
    {
     "data": {
      "text/plain": [
       "(array([200.,  98.,  27.,  11.,   4.,   3.,   4.,   1.,   0.,   2.]),\n",
       " array([ 0. ,  4.6,  9.2, 13.8, 18.4, 23. , 27.6, 32.2, 36.8, 41.4, 46. ]),\n",
       " <BarContainer object of 10 artists>)"
      ]
     },
     "execution_count": 2,
     "metadata": {},
     "output_type": "execute_result"
    },
    {
     "data": {
      "image/png": "[encoded data removed]",
      "text/plain": [
       "<Figure size 432x288 with 1 Axes>"
      ]
     },
     "metadata": {
      "needs_background": "light"
     },
     "output_type": "display_data"
    }
   ],
   "source": [
    "import matplotlib.pyplot as plt\n",
    "plt.hist([game[\"playtime\"] for game in found_games])"
   ]
  },
  {
   "cell_type": "code",
   "execution_count": 3,
   "metadata": {},
   "outputs": [
    {
     "data": {
      "text/plain": [
       "(array([ 18.,   0.,   0.,   0.,   3.,  11.,  31., 106., 116.,  65.]),\n",
       " array([0.   , 0.457, 0.914, 1.371, 1.828, 2.285, 2.742, 3.199, 3.656,\n",
       "        4.113, 4.57 ]),\n",
       " <BarContainer object of 10 artists>)"
      ]
     },
     "execution_count": 3,
     "metadata": {},
     "output_type": "execute_result"
    },
    {
     "data": {
      "image/png": "[encoded data removed]",
      "text/plain": [
       "<Figure size 432x288 with 1 Axes>"
      ]
     },
     "metadata": {
      "needs_background": "light"
     },
     "output_type": "display_data"
    }
   ],
   "source": [
    "plt.hist([game[\"rating\"] for game in found_games])"
   ]
  },
  {
   "cell_type": "code",
   "execution_count": 4,
   "metadata": {},
   "outputs": [],
   "source": [
    "metrics = ['name', 'playtime', 'released', 'rating', 'rating_top', 'ratings_count', 'suggestions_count', 'reviews_text_count', 'added', 'reviews_count']\n",
    "more_complex_metrics = ['genres', 'ratings', 'esrb_rating']"
   ]
  },
  {
   "cell_type": "code",
   "execution_count": 31,
   "metadata": {},
   "outputs": [
    {
     "data": {
      "text/plain": [
       "['action', 'role-playing-games-rpg']"
      ]
     },
     "execution_count": 31,
     "metadata": {},
     "output_type": "execute_result"
    }
   ],
   "source": [
    "[genre['slug'] for genre in found_games[0]['genres']]"
   ]
  },
  {
   "cell_type": "code",
   "execution_count": 34,
   "metadata": {},
   "outputs": [
    {
     "data": {
      "text/plain": [
       "[('exceptional', 2342), ('recommended', 1308), ('meh', 367), ('skip', 88)]"
      ]
     },
     "execution_count": 34,
     "metadata": {},
     "output_type": "execute_result"
    }
   ],
   "source": [
    "[(rating['title'], rating['count']) for rating in found_games[0]['ratings']]"
   ]
  },
  {
   "cell_type": "code",
   "execution_count": 36,
   "metadata": {},
   "outputs": [
    {
     "data": {
      "text/plain": [
       "'mature'"
      ]
     },
     "execution_count": 36,
     "metadata": {},
     "output_type": "execute_result"
    }
   ],
   "source": [
    "found_games[0]['esrb_rating']['slug']"
   ]
  },
  {
   "cell_type": "code",
   "execution_count": 13,
   "metadata": {},
   "outputs": [],
   "source": [
    "metrics = ['name', 'playtime', 'released', 'rating', 'rating_top', 'ratings_count', 'suggestions_count', 'reviews_text_count', 'added', 'reviews_count', 'esrb_rating']\n",
    "\n",
    "def genre_rules(game):\n",
    "    game_slug = game['slug']\n",
    "    genre_slugs = [genre['slug'] for genre in game['genres']]\n",
    "    return [f\"genre({game_slug},{genre_slug})\" for genre_slug in genre_slugs]\n",
    "\n",
    "def rating_rules(game):\n",
    "    game_slug = game['slug']\n",
    "    ratings = [(rating['title'], rating['count']) for rating in game['ratings']]\n",
    "    return [f\"ratings({game_slug},{title},{count})\" for (title, count) in ratings]\n",
    "\n",
    "def get_metric_value(game, metric):\n",
    "    if metric in ['name', 'released']:\n",
    "        return \"\\\"\" + game[metric] + \"\\\"\"\n",
    "    elif metric == 'esrb_rating':\n",
    "        return game[metric]['slug'] if game[metric] else None\n",
    "    return game[metric]\n",
    "\n",
    "def generate_rules_for_game(game):\n",
    "    rules = []\n",
    "    game_slug = game['slug']\n",
    "    for metric in metrics:\n",
    "        metric_value = get_metric_value(game, metric)\n",
    "        if metric_value: rules.append(f\"{metric}({game_slug},{metric_value})\")\n",
    "    rules += genre_rules(game)\n",
    "    rules += rating_rules(game)\n",
    "    return rules\n",
    "\n",
    "def generate_rules(games):\n",
    "    rules = []\n",
    "    for game in games:\n",
    "        rules += generate_rules_for_game(game)\n",
    "    # Sort rules - rules of the same type should be grouped together.\n",
    "    rules = sorted(rules)\n",
    "    return \".\\n\".join(rules) + \".\""
   ]
  },
  {
   "cell_type": "code",
   "execution_count": 13,
   "metadata": {},
   "outputs": [
    {
     "name": "stdout",
     "output_type": "stream",
     "text": [
      "image(the-elder-scrolls-v-skyrim, \"https://media.rawg.io/media/games/7cf/7cfc9220b401b7a300e409e539c9afd5.jpg\").\n",
      "image(fallout-4, \"https://media.rawg.io/media/games/d82/d82990b9c67ba0d2d09d4e6fa88885a7.jpg\").\n",
      "image(payday-2, \"https://media.rawg.io/media/games/73e/73eecb8909e0c39fb246f457b5d6cbbe.jpg\").\n",
      "image(terraria, \"https://media.rawg.io/media/games/f46/f466571d536f2e3ea9e815ad17177501.jpg\").\n",
      "image(batman-arkham-knight, \"https://media.rawg.io/media/games/310/3106b0e012271c5ffb16497b070be739.jpg\").\n",
      "image(mirrors-edge, \"https://media.rawg.io/media/games/8e4/8e4de3f54ac659e08a7ba6a2b731682a.jpg\").\n",
      "image(hollow-knight, \"https://media.rawg.io/media/games/4cf/4cfc6b7f1850590a4634b08bfab308ab.jpg\").\n",
      "image(wolfenstein-the-new-order, \"https://media.rawg.io/media/games/c80/c80bcf321da44d69b18a06c04d942662.jpg\").\n",
      "image(prey, \"https://media.rawg.io/media/games/e6d/e6de699bd788497f4b52e2f41f9698f2.jpg\").\n",
      "image(dead-space, \"https://media.rawg.io/media/games/ebd/ebdbb7eb52bd58b0e7fa4538d9757b60.jpg\").\n",
      "image(mass-effect-2, \"https://media.rawg.io/media/games/3cf/3cff89996570cf29a10eb9cd967dcf73.jpg\").\n",
      "image(for-honor, \"https://media.rawg.io/media/games/4e0/4e0e7b6d6906a131307c94266e5c9a1c.jpg\").\n",
      "image(stardew-valley, \"https://media.rawg.io/media/games/713/713269608dc8f2f40f5a670a14b2de94.jpg\").\n",
      "image(fallout-new-vegas, \"https://media.rawg.io/media/games/995/9951d9d55323d08967640f7b9ab3e342.jpg\").\n",
      "image(hellblade-senuas-sacrifice, \"https://media.rawg.io/media/games/63f/63f0e68688cad279ed38cde931dbfcdb.jpg\").\n",
      "image(mass-effect, \"https://media.rawg.io/media/games/a6c/a6ccd34125c594abf1a9c9821b9a715d.jpg\").\n",
      "image(dishonored-2, \"https://media.rawg.io/media/games/f6b/f6bed028b02369d4cab548f4f9337e81.jpg\").\n",
      "image(jedi-the-fallen-order, \"https://media.rawg.io/media/games/559/559bc0768f656ad0c63c54b80a82d680.jpg\").\n",
      "image(brutal-legend, \"https://media.rawg.io/media/games/af7/af7a831001c5c32c46e950cc883b8cb7.jpg\").\n",
      "image(psychonauts, \"https://media.rawg.io/media/games/c89/c89ca70716080733d03724277df2c6c7.jpg\").\n",
      "image(titanfall-2, \"https://media.rawg.io/media/games/569/56978b5a77f13aa2ec5d09ec81d01cad.jpg\").\n",
      "image(cities-skylines, \"https://media.rawg.io/media/games/25c/25c4776ab5723d5d735d8bf617ca12d9.jpg\").\n",
      "image(firewatch, \"https://media.rawg.io/media/games/0be/0bea0a08a4d954337305391b778a7f37.jpg\").\n",
      "image(minecraft, \"https://media.rawg.io/media/games/b4e/b4e4c73d5aa4ec66bbf75375c4847a2b.jpg\").\n",
      "image(far-cry-5, \"https://media.rawg.io/media/games/bce/bce62fbc7cf74bf6a1a37340993ec148.jpg\").\n",
      "image(inside, \"https://media.rawg.io/media/games/d5a/d5a24f9f71315427fa6e966fdd98dfa6.jpg\").\n",
      "image(alien-isolation, \"https://media.rawg.io/media/games/daa/daaee07fcb40744d90cf8142f94a241f.jpg\").\n",
      "image(middle-earth-shadow-of-war, \"https://media.rawg.io/media/games/21a/21ad672cedee9b4378abb6c2d2e626ee.jpg\").\n",
      "image(assassins-creed-odyssey, \"https://media.rawg.io/media/games/c6b/c6bd26767c1053fef2b10bb852943559.jpg\").\n",
      "image(undertale, \"https://media.rawg.io/media/games/ffe/ffed87105b14f5beff72ff44a7793fd5.jpg\").\n",
      "image(assassins-creed-origins, \"https://media.rawg.io/media/games/336/336c6bd63d83cf8e59937ab8895d1240.jpg\").\n",
      "image(tom-clancys-rainbow-six-siege-2, \"https://media.rawg.io/media/games/b34/b3419c2706f8f8dbe40d08e23642ad06.jpg\").\n",
      "image(battlefield-1, \"https://media.rawg.io/media/games/998/9980c4296f311d8bcc5b451ca51e4fe1.jpg\").\n",
      "image(no-mans-sky, \"https://media.rawg.io/media/games/174/1743b3dd185bda4a7be349347d4064df.jpg\").\n",
      "image(ark-survival-evolved, \"https://media.rawg.io/media/games/58a/58ac7f6569259dcc0b60b921869b19fc.jpg\").\n",
      "image(ori-and-the-blind-forest-definitive-edition, \"https://media.rawg.io/media/games/04a/04a7e7e185fb51493bdcbe1693a8b3dc.jpg\").\n",
      "image(wolfenstein-2-the-new-colossus, \"https://media.rawg.io/media/games/a0e/a0ef08621301a1eab5e04fa5c96978fa.jpeg\").\n",
      "image(dragon-age-origins, \"https://media.rawg.io/media/games/dc0/dc0926d3f84ffbcc00968fe8a6f0aed3.jpg\").\n",
      "image(halo-infinite, \"https://media.rawg.io/media/games/e1f/e1ffbeb1bac25b19749ad285ca29e158.jpg\").\n",
      "image(doom-eternal, \"https://media.rawg.io/media/games/3ea/3ea3c9bbd940b6cb7f2139e42d3d443f.jpg\").\n",
      "image(fallout-3, \"https://media.rawg.io/media/games/5a4/5a4e70bb8a862829dbaa398aa5f66afc.jpg\").\n",
      "image(dead-space-2, \"https://media.rawg.io/media/games/ae1/ae1518c3dc1e847344661905fd2a8d16.jpg\").\n",
      "image(halo-the-master-chief-collection, \"https://media.rawg.io/media/games/c24/c24f4434882ae9c2c8d9d38de82cb7a5.jpg\").\n",
      "image(quantum-break, \"https://media.rawg.io/media/games/a28/a289e23b4d4d84f26ab59125e3be4483.jpg\").\n",
      "image(grim-fandango-remastered, \"https://media.rawg.io/media/games/df2/df20fd77db56ae7b0a26a7ff4baa9ccc.jpg\").\n",
      "image(dead-cells, \"https://media.rawg.io/media/games/f90/f90ee1a4239247a822771c40488e68c5.jpg\").\n",
      "image(subnautica, \"https://media.rawg.io/media/games/739/73990e3ec9f43a9e8ecafe207fa4f368.jpg\").\n",
      "image(battlefield-4, \"https://media.rawg.io/media/games/ac7/ac7b8327343da12c971cfc418f390a11.jpg\").\n",
      "image(goat-simulator, \"https://media.rawg.io/media/games/a44/a444a7628bdb49b24d06a7672f805814.jpg\").\n",
      "image(the-walking-dead-season-2, \"https://media.rawg.io/media/games/471/4712c9ac591f556f553556b864a7e92b.jpg\").\n",
      "image(yakuza-0, \"https://media.rawg.io/media/games/ca1/ca16da30f86d8f4d36261de45fb35430.jpg\").\n",
      "image(the-outer-worlds, \"https://media.rawg.io/media/games/704/704f831d2d132e9614931f1c4eab9e86.jpg\").\n",
      "image(alan-wakes-american-nightmare, \"https://media.rawg.io/media/games/0b3/0b34647c42271600399b93d19b10f1aa.jpg\").\n",
      "image(forza-horizon-4, \"https://media.rawg.io/media/games/786/7863e587bac630de82fca50d799236a9.jpg\").\n",
      "image(a-way-out-2018, \"https://media.rawg.io/media/games/473/473bd9a5e9522629d6cb28b701fb836a.jpg\").\n",
      "image(ryse-son-of-rome, \"https://media.rawg.io/media/games/736/736c0eaec96d848d7824b33298a182f2.jpg\").\n",
      "image(the-long-dark, \"https://media.rawg.io/media/games/fd2/fd20a68d7ef195855588c937865dd0a7.jpg\").\n",
      "image(the-evil-within, \"https://media.rawg.io/media/games/157/1570121f5c4d240504f1eae5c3854733.jpg\").\n",
      "image(dead-by-daylight, \"https://media.rawg.io/media/games/e11/e11325e2f89151d31f612e38dee3b6a0.jpg\").\n",
      "image(frostpunk, \"https://media.rawg.io/media/games/a88/a886c37bf112d009e318b106db9d420a.jpg\").\n",
      "image(broken-age, \"https://media.rawg.io/media/screenshots/6ac/6ac143af704c95c774af432785ff9762.jpeg\").\n",
      "image(sea-of-thieves, \"https://media.rawg.io/media/games/539/53911178036df07d518dd492ddc25289.jpg\").\n",
      "image(star-wars-battlefront, \"https://media.rawg.io/media/games/bd2/bd2cc7714e0b9b1adad1ba1b2400d436.jpg\").\n",
      "image(the-sims-4, \"https://media.rawg.io/media/games/e44/e445335e611b4ccf03af71fffcbd30a4.jpg\").\n",
      "image(mortal-kombat-11, \"https://media.rawg.io/media/games/eb5/eb514db62d397c64288160d5bd8fd67a.jpg\").\n",
      "image(battlefield-3, \"https://media.rawg.io/media/games/8bd/8bda6d876f3e241c6024022299553efd.jpg\").\n",
      "image(mass-effect-3, \"https://media.rawg.io/media/games/315/3156817d3ac1f341da73de6495fb28f5.jpg\").\n",
      "image(morrowind, \"https://media.rawg.io/media/games/ccf/ccf26f6e3d553a04f0033a8107a521b8.jpg\").\n",
      "image(pillars-of-eternity, \"https://media.rawg.io/media/games/789/7896837ec22a83e4007018ddd55e8c9a.jpg\").\n",
      "image(rage, \"https://media.rawg.io/media/games/8a7/8a75028028592f9323d1e6e86668bb91.jpg\").\n",
      "image(battlefield-v, \"https://media.rawg.io/media/games/45b/45b57ed59de4b84effd8f6bc4b7bf515.jpg\").\n",
      "image(crysis, \"https://media.rawg.io/media/games/90f/90fd5e569bc4c4a666c588a732124908.jpg\").\n",
      "image(gears-5, \"https://media.rawg.io/media/games/121/1213f8b9b0a26307e672cf51f34882f8.jpg\").\n",
      "image(sniper-elite-4, \"https://media.rawg.io/media/games/2fe/2feec1ba840f467a2280061b9e665c6e.jpg\").\n",
      "image(slay-the-spire, \"https://media.rawg.io/media/games/f52/f5206d55f918edf8ee07803101106fa6.jpg\").\n",
      "image(injustice-2, \"https://media.rawg.io/media/games/2c8/2c89e43515ed12aee51becc3dcfd8e7e.jpg\").\n",
      "image(sunset-overdrive, \"https://media.rawg.io/media/games/c2e/c2eb6021a2596644b437e943612af25c.jpg\").\n",
      "image(battlefield-bad-company-2, \"https://media.rawg.io/media/games/e8f/e8f923180ecb9614ec564a15937cfd9e.jpg\").\n",
      "image(forza-horizon-5, \"https://media.rawg.io/media/games/082/082365507ff04d456c700157072d35db.jpg\").\n",
      "image(final-fantasy-xiii, \"https://media.rawg.io/media/games/943/9432de383089b0a427a3cdf3687b2b73.jpg\").\n",
      "image(outer-wilds, \"https://media.rawg.io/media/games/9f4/9f418898f5415668ca47b5f4ab1ecfeb.jpg\").\n",
      "image(it-takes-two-2, \"https://media.rawg.io/media/games/d47/d479582ed0a46496ad34f65c7099d7e5.jpg\").\n",
      "image(need-for-speed, \"https://media.rawg.io/media/games/19a/19a512a8c1293c22894b7364e1405ec1.jpg\").\n",
      "image(overcooked-2, \"https://media.rawg.io/media/games/d11/d11470677a829e34562e95a4002c2c7f.jpg\").\n",
      "image(unravel, \"https://media.rawg.io/media/games/cfe/cfe114c081281960bd79ace5209c0a4a.jpg\").\n",
      "image(fable-anniversary, \"https://media.rawg.io/media/games/071/0715f91a89d634d9183e2f23c0cb1a98.jpg\").\n",
      "image(mirrors-edge-catalyst, \"https://media.rawg.io/media/games/257/257c497aa4060f4a697ccbf5e99ec230.jpg\").\n",
      "image(need-for-speed-payback, \"https://media.rawg.io/media/games/a57/a57e3c73ca46cbf55b526c828e3545c0.jpg\").\n",
      "image(tom-clancys-ghost-recon-wildlands-2, \"https://media.rawg.io/media/games/72e/72e0e063c817e90c696b2da3ea78abaa.jpg\").\n",
      "image(guardians-of-the-galaxy, \"https://media.rawg.io/media/games/708/7080e6c87e0825cb02888bf3c44b3889.jpg\").\n",
      "image(dishonored-death-of-the-outsider, \"https://media.rawg.io/media/games/742/74276457ebb9466e11d75a2be7722265.jpg\").\n",
      "image(7-days-to-die, \"https://media.rawg.io/media/games/5cb/5cbbc5cd24677331c85253f961cad72a.jpg\").\n",
      "image(the-evil-within-2, \"https://media.rawg.io/media/games/d5f/d5fd2f970f48d0877a53aec98825faba.jpg\").\n",
      "image(deathloop-2, \"https://media.rawg.io/media/games/018/01857c5ff9579c48fa8bd76b4d83a946.jpg\").\n",
      "image(fallout-76, \"https://media.rawg.io/media/games/151/151e79f397328419c64aabe93d9d5a31.jpg\").\n",
      "image(my-friend-pedro, \"https://media.rawg.io/media/games/21d/21dfa5f7f5c0fa2b85f418c4e1c6ab1b.jpg\").\n",
      "image(gears-of-war, \"https://media.rawg.io/media/games/988/98834d39955e7f15d3717fac438128aa.jpg\").\n",
      "image(fable-3, \"https://media.rawg.io/media/games/827/8276bc29cdc27752e27802b94aea255e.jpg\").\n",
      "image(doom-3, \"https://media.rawg.io/media/games/3b0/3b01313965c19adc6b6c37a3d9d33576.jpg\").\n",
      "image(need-for-speed-heat, \"https://media.rawg.io/media/games/370/3703c683968a54f09630dcf03366ea35.jpg\").\n",
      "image(need-for-speed-rivals, \"https://media.rawg.io/media/games/1fa/1fa75f0895240b12fc65cc98ae9649fd.jpg\").\n",
      "image(day-of-the-tentacle-remastered, \"https://media.rawg.io/media/games/764/7648a8802fae5247298d775c85e9535f.jpg\").\n",
      "image(dirt-rally-20, \"https://media.rawg.io/media/games/8f3/8f306808c45a4dbe0cd698e0b142af08.jpg\").\n",
      "image(battlefield-hardline, \"https://media.rawg.io/media/games/d2b/d2b33b26e0d61aca35d434c8a69e3711.jpg\").\n",
      "image(golf-with-your-friends, \"https://media.rawg.io/media/screenshots/f5a/f5abab52c4d606551cd5ec3ab709e501.jpg\").\n",
      "image(gears-of-war-2, \"https://media.rawg.io/media/games/51b/51ba5f9b280c6fec71c293fe276e24ec.jpg\").\n",
      "image(moonlighter, \"https://media.rawg.io/media/games/5c2/5c2b78d4ee2647849d0bfb5d772345c8.jpg\").\n",
      "image(quake, \"https://media.rawg.io/media/games/3a8/3a82d7f5c90ab082fe475e28d58bee8b.jpg\").\n",
      "image(alice-madness-returns, \"https://media.rawg.io/media/games/0b5/0b5410b1e4b3fb72696dcefbf4f1cf40.jpg\").\n",
      "image(dead-space-3, \"https://media.rawg.io/media/games/568/5689c58278e807c1574ceefb8dec026b.jpg\").\n",
      "image(conan-exiles, \"https://media.rawg.io/media/games/c9e/c9e47fd222f631084879d395eee07d66.jpg\").\n",
      "image(full-throttle-remastered, \"https://media.rawg.io/media/games/ab1/ab1b125c1bf4899c58fe90226b9a1f5b.jpg\").\n",
      "image(rage-2, \"https://media.rawg.io/media/games/662/66261db966238da20c306c4b78ae4603.jpg\").\n",
      "image(dragon-age-2, \"https://media.rawg.io/media/games/974/974d08635981db7677630327ce1fe4bb.jpg\").\n",
      "image(wasteland-2-directors-cut, \"https://media.rawg.io/media/games/4f4/4f4c0c0d2127fd67b1e894204029468b.jpg\").\n",
      "image(burnout-paradise, \"https://media.rawg.io/media/games/788/788b80cbc8c39167f7ed6dd89fd398dc.jpg\").\n",
      "image(dayz, \"https://media.rawg.io/media/games/7d7/7d7c89793578f721df56022c6cf53bb0.jpg\").\n",
      "image(costume-quest, \"https://media.rawg.io/media/screenshots/2b4/2b47c5edfeea2970eeb44d1f8cbd562d.jpg\").\n",
      "image(gears-of-war-4, \"https://media.rawg.io/media/games/079/079175933a50b2bf202edd6aa17be19c.jpg\").\n",
      "image(gears-of-war-3, \"https://media.rawg.io/media/games/422/4228842dcfaef2a83bdb14c2a3ca2165.jpg\").\n",
      "image(yakuza-kiwami-2, \"https://media.rawg.io/media/games/b32/b32735e3f7d95959cc39265f555f2aa8.jpg\").\n",
      "image(astroneer, \"https://media.rawg.io/media/games/02f/02f775a806c6cd64c28d5aeca928dc76.jpg\").\n",
      "image(the-ascent-2, \"https://media.rawg.io/media/games/d68/d68eeda4d2bc89241066056efae8f7c2.jpg\").\n",
      "image(crysis-3, \"https://media.rawg.io/media/games/1c6/1c61ef4ce04bce876841118580b03ccb.jpg\").\n",
      "image(fable-ii, \"https://media.rawg.io/media/games/cec/cec82d526f9d056d426c985562963eec.jpg\").\n",
      "image(state-of-decay-2, \"https://media.rawg.io/media/games/20a/20a1892c6dbe9b820a2f0d79f9ed47a2.jpg\").\n",
      "image(dragon-ball-fighterz, \"https://media.rawg.io/media/games/96b/96b9420bbd4bd1b79bf2a67f7779733a.jpg\").\n",
      "image(halo-5-guardians, \"https://media.rawg.io/media/games/77f/77fb27e5b7ec6984f43a70a289376e6a.jpg\").\n",
      "image(crysis-2, \"https://media.rawg.io/media/games/899/899ce332d07c3fc1dd924bf828d1f484.jpg\").\n",
      "image(dirt-5, \"https://media.rawg.io/media/games/9c7/9c7dd09596246993169b356d7c1facf0.jpg\").\n",
      "image(wreckfest, \"https://media.rawg.io/media/games/ff2/ff2315fb895502efcbd40f1e5f37c170.jpg\").\n",
      "image(psychonauts-2, \"https://media.rawg.io/media/games/c3c/c3c536cc4d32623ba928020dfd39a648.jpg\").\n",
      "image(gang-beasts, \"https://media.rawg.io/media/screenshots/160/160f894fc774f4cc51a99f435abadd4e.jpg\").\n",
      "image(my-time-at-portia, \"https://media.rawg.io/media/games/176/1765390b699b432edc3a208d544c6ba0.jpg\").\n",
      "image(back-4-blood, \"https://media.rawg.io/media/games/4fe/4feffcec6315c5f5a96442a8444431ca.jpg\").\n",
      "image(outriders, \"https://media.rawg.io/media/games/faa/faa6a4a7a2e57faf2960329630aee211.jpg\").\n",
      "image(star-wars-squadrons, \"https://media.rawg.io/media/games/b19/b191ff2b8ccb646d1d2d9297ed5c7e89.jpg\").\n",
      "image(contrast, \"https://media.rawg.io/media/games/5f2/5f25cf08217b40b9d8f02f95db1fdc1d.jpg\").\n",
      "image(anthem, \"https://media.rawg.io/media/games/cc4/cc43daf431c44420c7f602025d250fb1.jpg\").\n",
      "image(superliminal, \"https://media.rawg.io/media/screenshots/fb1/fb1fe0f084f38788e176a155e3cec07a.jpg\").\n",
      "image(maneater, \"https://media.rawg.io/media/games/895/8951013b8ace2d652727df2f9023cbb8.jpg\").\n",
      "image(nuclear-throne, \"https://media.rawg.io/media/screenshots/a2d/a2de25bcbcb0b4f0b015b644534597c4.jpg\").\n",
      "image(wolfenstein-youngblood, \"https://media.rawg.io/media/games/c64/c64d2f63cabeab9126693b7d39539c8d.jpg\").\n",
      "image(the-walking-dead-a-new-frontier, \"https://media.rawg.io/media/games/f0a/f0a65d7d9c4534f8f4897f9d161307ed.jpg\").\n",
      "image(yakuza-7, \"https://media.rawg.io/media/games/a59/a5993b9f84944570a31cb6ad08bfe502.jpg\").\n",
      "image(we-happy-few, \"https://media.rawg.io/media/games/537/537974990a025a3edcbe91e408e85fbc.jpg\").\n",
      "image(teenage-mutant-ninja-turtles-shredders-revenge, \"https://media.rawg.io/media/games/aac/aac683272f862540a18625f02f5f3679.jpg\").\n",
      "image(house-flipper, \"https://media.rawg.io/media/screenshots/9f9/9f9ab5676c4f7d21c3f29165ef6dda2c.jpg\").\n",
      "image(final-fantasy-xiii-2, \"https://media.rawg.io/media/games/c6f/c6fc62de480c614fed2b88df0155cdcd.jpg\").\n",
      "image(acid-nerve-deaths-door, \"https://media.rawg.io/media/games/a3e/a3ea71c18e81d54ebaf982dadb9a8738.jpg\").\n",
      "image(supraland, \"https://media.rawg.io/media/games/b62/b62581b3e5d0c65268fb33c62865e5df.jpg\").\n",
      "image(halo-spartan-assault, \"https://media.rawg.io/media/games/93f/93f10d635566ff67e4f743c2c8f2c4dd.jpg\").\n",
      "image(wasteland-3, \"https://media.rawg.io/media/games/370/370a4cbcfa75e5238ee8f74bf323694d.jpg\").\n",
      "image(donut-county, \"https://media.rawg.io/media/games/035/035b7bd6d015e07e501d2234ec629dc3.jpg\").\n",
      "image(dantes-inferno, \"https://media.rawg.io/media/games/cdd/cdd4b6cf03ac7ebf7460b0d82f9aaa09.jpg\").\n",
      "image(danganronpa-trigger-happy-havoc, \"https://media.rawg.io/media/games/2fb/2fb35e31727f7ebc1f00bf998d0e22a7.jpg\").\n",
      "image(tunic, \"https://media.rawg.io/media/games/2c1/2c1984e128ac48b89953ed4de4904a3b.jpg\").\n",
      "image(clustertruck, \"https://media.rawg.io/media/screenshots/4f8/4f8fdcafd22e1e2c252b7b3a0d39ddef.jpg\").\n",
      "image(tetris-effect-connected, \"https://media.rawg.io/media/games/377/3770f2c7020bcb6cc2072f073f27fb4c.jpg\").\n",
      "image(battletoads, \"https://media.rawg.io/media/games/470/47058af09b864c2d211a08271eccfb4f.jpg\").\n",
      "image(thehunter-call-of-the-wild, \"https://media.rawg.io/media/games/e6f/e6fed89f004972a1967e181fe63e78b0.jpg\").\n",
      "image(skate-3, \"https://media.rawg.io/media/games/122/1222277df1e3a000327b65d9ca45126a.jpg\").\n",
      "image(unpacking-2, \"https://media.rawg.io/media/games/c11/c1118fbcfd846c631ecb7646f8efc780.jpg\").\n",
      "image(pikuniku-2, \"https://media.rawg.io/media/games/f26/f26800fe9d6aba33fed9b81195b12728.jpg\").\n",
      "image(gears-tactics, \"https://media.rawg.io/media/games/c36/c366f32194f488b2d04c0ec086c2cc3d.jpg\").\n",
      "image(bejeweled-3, \"https://media.rawg.io/media/screenshots/0a0/0a0561997da0dc86fcdebf1249bf0043.jpg\").\n",
      "image(forager, \"https://media.rawg.io/media/screenshots/467/467ec166bdb3c8f8232e205047194dba.jpg\").\n",
      "image(fifa-21, \"https://media.rawg.io/media/games/df4/df415b18835f91a1b4db1da294996ee5.jpg\").\n",
      "image(banjo-kazooie, \"https://media.rawg.io/media/screenshots/f0d/f0da831778e57b58636ccaf20a7cc6e6.jpg\").\n",
      "image(recore-definitive-edition-2, \"https://media.rawg.io/media/games/d76/d76bd51161884d729ceac7e98eacde80.jpg\").\n",
      "image(torment-tides-of-numenera, \"https://media.rawg.io/media/games/570/5705f063e549547b22db00b643619388.jpg\").\n",
      "image(battlefield-bad-co, \"https://media.rawg.io/media/games/aeb/aeb33772a46dfe88fa9bd2f93068c91c.jpg\").\n",
      "image(ea-sports-ufc-3, \"https://media.rawg.io/media/screenshots/abf/abf78bfd9fbe3ae9deef030510ec9fa7_DuTr1td.jpg\").\n",
      "image(gears-of-war-judgment, \"https://media.rawg.io/media/games/4c5/4c53a1916628cb0dfd47b812955c194d.jpg\").\n",
      "image(plants-vs-zombies-garden-warfare-3, \"https://media.rawg.io/media/games/9cd/9cddf72caf9ca14267121975270149dd.jpg\").\n",
      "image(project-octopath-traveler, \"https://media.rawg.io/media/games/e23/e2345c839b323a94b6811705fda5af73.jpg\").\n",
      "image(scarlet-nexus, \"https://media.rawg.io/media/games/27c/27cb94ed1763fec383fb99151580095a.jpg\").\n",
      "image(doom-2, \"https://media.rawg.io/media/games/47b/47b50d880be8453bf9cda6e5c007bc26.jpg\").\n",
      "image(snowrunner, \"https://media.rawg.io/media/games/d22/d22ea1bfb636fbf1a9c235cc304312a8.jpg\").\n",
      "image(neon-abyss, \"https://media.rawg.io/media/games/977/97759451a8b0fcb16ac9357c24140008.jpg\").\n",
      "image(grounded-2, \"https://media.rawg.io/media/games/0d7/0d7b7a687bf665b61337904193c56855.jpg\").\n",
      "image(f1-2020, \"https://media.rawg.io/media/games/cd6/cd64ec71d501de0eb32f6b1f50e4c060.jpg\").\n",
      "image(mortal-shell, \"https://media.rawg.io/media/games/0b3/0b32976c5406a0a646cfc4cdc2297b17.jpg\").\n",
      "image(breathedge, \"https://media.rawg.io/media/games/ef8/ef853efdaf6778ca731eec21d1d7d0d7.jpg\").\n",
      "image(tropico-6, \"https://media.rawg.io/media/games/5d5/5d5da5167163cc75f77b4c6b15ae865b.jpg\").\n",
      "image(bridge-constructor-portal, \"https://media.rawg.io/media/games/cc2/cc2a1f137e7166adebe419cbcc86d207.jpg\").\n",
      "image(yakuza-6, \"https://media.rawg.io/media/games/e35/e355efef97722d50bec3482a2263b962.jpg\").\n",
      "image(descenders, \"https://media.rawg.io/media/screenshots/b9f/b9f558ec74f8519b7fa325175c0a65b0.jpg\").\n",
      "image(rare-replay, \"https://media.rawg.io/media/screenshots/369/3696ff49a604521d3c0ba70c832ee42b.jpg\").\n",
      "image(crackdown-3, \"https://media.rawg.io/media/games/223/2236a6f4f479eed103d2d11addabb235.jpg\").\n",
      "image(peggle-2, \"https://media.rawg.io/media/screenshots/946/94683098e0befd482e5c890bd03cda26.jpg\").\n",
      "image(totally-accurate-battle-simulator, \"https://media.rawg.io/media/screenshots/82a/82a9e2b7caf052d0f140b70e350cf184.jpg\").\n",
      "image(viva-pinata, \"https://media.rawg.io/media/screenshots/001/001003a4a5f2fd8d2c8c3949592c34cf.jpg\").\n",
      "image(monster-train, \"https://media.rawg.io/media/screenshots/3f5/3f58a7b2a2b290994eb798eb72ca3fb2.jpg\").\n",
      "image(a-plague-tale-requiem, \"https://media.rawg.io/media/games/cd0/cd074f3f6045297cda9ad077273c09b6.jpg\").\n",
      "image(serious-sam-4-planet-badass, \"https://media.rawg.io/media/games/6de/6de6fc22dcf802a549be5a41fabc84a9.jpg\").\n",
      "image(forgotten-city, \"https://media.rawg.io/media/games/6e9/6e9136f09bb9daaaed5a0e6d508028b4.jpg\").\n",
      "image(medal-of-honor-airborne-2, \"https://media.rawg.io/media/games/0d4/0d4508d6383dd6c63256b41f0aa35e6b.jpg\").\n",
      "image(weird-west, \"https://media.rawg.io/media/games/3ca/3ca6130eabf2e05275859166eaf5c66b.jpg\").\n",
      "image(powerwash-simulator, \"https://media.rawg.io/media/games/659/65959a07c4e6dc7a9034993bbb3ba232.jpg\").\n",
      "image(max-the-curse-of-brotherhood, \"https://media.rawg.io/media/screenshots/53a/53a98929b8c944db6522487896fd9264.jpg\").\n",
      "image(super-luckys-tale, \"https://media.rawg.io/media/screenshots/47a/47af3dafc5ec388085d3e7902b627b9c.jpg\").\n",
      "image(paradise-killer, \"https://media.rawg.io/media/screenshots/9ed/9ed9f5e3c1ac7f70c778f0880a906c46.jpg\").\n",
      "image(fifa-22-xbox-one, \"https://media.rawg.io/media/games/355/355d2ec5d6b87518228dc30a9bb0e70d.jpg\").\n",
      "image(trailmakers, \"https://media.rawg.io/media/screenshots/885/885a7caffb0899f083f095502c968e7d.jpg\").\n",
      "image(ssx, \"https://media.rawg.io/media/games/566/566c25b3814c8b35bce7375e22d11748.jpg\").\n",
      "image(sea-of-solitude, \"https://media.rawg.io/media/games/22a/22a3b2ddb5b344b1081cc28768f8ac84.jpg\").\n",
      "image(bugsnax, \"https://media.rawg.io/media/games/313/3137f0b7fb36b53e34abcde6e7607909.jpg\").\n",
      "image(battlefield-1943, \"https://media.rawg.io/media/games/3fb/3fb4cecfa42d7cdf98dabb59bb42925e.jpg\").\n",
      "image(kill-it-with-fire-2, \"https://media.rawg.io/media/screenshots/a96/a96ccd1d451aef96be6ca1f1fe12134c.jpg\").\n",
      "image(perfect-dark, \"https://media.rawg.io/media/games/f62/f62d090119e5ff05c59036480123fd83.jpg\").\n",
      "image(lonely-mountains-downhill, \"https://media.rawg.io/media/screenshots/dc7/dc7beb9bf6abd3ba6c42651de50a5435.jpg\").\n",
      "image(the-bards-tale-iv-directors-cut, \"https://media.rawg.io/media/screenshots/7d3/7d344d279e529e78b445ebdc4b573d0c.jpg\").\n",
      "image(costume-quest-2, \"https://media.rawg.io/media/screenshots/7d9/7d9ce4933d93667a64d9d62cadd3e6a4.jpg\").\n",
      "image(peggle, \"https://media.rawg.io/media/screenshots/ea8/ea82ea0e91daeafd6b98d22166c0913b.jpg\").\n",
      "image(halo-wars-definitive-edition, \"https://media.rawg.io/media/games/b9a/b9a85da19ba361e20bfb39404f74f800.jpg\").\n",
      "image(scorn-episode-one, \"https://media.rawg.io/media/games/f8c/f8cc3b4834259f8a812ce77804bc12ed.jpg\").\n",
      "image(sniper-elite-5, \"https://media.rawg.io/media/games/3e0/3e09bb71ce82dad515df4982a2466e67.jpg\").\n",
      "image(monster-sanctuary, \"https://media.rawg.io/media/screenshots/32e/32edbec542dceb12ddf0d868e0a42dbd.jpg\").\n",
      "image(genesis-noir, \"https://media.rawg.io/media/games/dec/decdfa154a72265cd2914097666a99d5.jpg\").\n",
      "image(art-of-rally, \"https://media.rawg.io/media/games/f9a/f9a3b8c9d6ae61e29bd45782040d2c7e.jpg\").\n",
      "image(perfect-dark-zero, \"https://media.rawg.io/media/games/0d5/0d555bec9338aa4f4035fe664e9dc10f.jpg\").\n",
      "image(road-96, \"https://media.rawg.io/media/games/61e/61ec0844a59c04cb0b2d2545e464e026.jpg\").\n",
      "image(trek-to-yomi, \"https://media.rawg.io/media/games/bc5/bc53067cffecb71129fcb0b4fbf0e922.jpg\").\n",
      "image(halo-wars-2, \"https://media.rawg.io/media/games/7da/7da8472b0003bd6fc435302ea4e3deb7.jpg\").\n",
      "image(banjo-kazooie-n-n-b, \"https://media.rawg.io/media/screenshots/fe9/fe9e851aa9576411b6349cf74c254fb6.jpg\").\n",
      "image(i-am-fish, \"https://media.rawg.io/media/games/deb/debed1495adeac69fd5f0be501ecae35.jpg\").\n",
      "image(telling-lies, \"https://media.rawg.io/media/games/d96/d965a8355c3165cf4698e1b3fdb5dd3a.jpg\").\n",
      "image(kameo, \"https://media.rawg.io/media/screenshots/ab9/ab909eb012c4f69e0a5cab42bbe7851f.jpg\").\n",
      "image(secret-neighbor, \"https://media.rawg.io/media/games/ae1/ae1d93f1c29850a246cd6480a7b8ebdf.jpg\").\n",
      "image(disneyland-adventures, \"https://media.rawg.io/media/games/f9c/f9c8171193011119bc83c7ea13a23442.jpg\").\n",
      "image(coffee-talk, \"https://media.rawg.io/media/games/100/100c1787b05ac9151b82a118bc997f97.jpg\").\n",
      "image(the-pedestrian, \"https://media.rawg.io/media/screenshots/789/789144172022eb539a9fe76e5ca61527.jpg\").\n",
      "image(the-artful-escape, \"https://media.rawg.io/media/games/d3e/d3ee2d7653cf9d4640335ff7a471ab07.jpg\").\n",
      "image(project-wingman, \"https://media.rawg.io/media/games/28a/28a5010a07b9104a91c6de5059a7fe69.jpg\").\n",
      "image(nobody-saves-the-world, \"https://media.rawg.io/media/games/b44/b448c0725eb490dda9cfb23b826da68a.jpg\").\n",
      "image(skul-the-hero-slayer, \"https://media.rawg.io/media/games/4f0/4f0a1619ca566080c9f3bb1e813bd6f6.jpg\").\n",
      "image(zombie-army-dead-war-4, \"https://media.rawg.io/media/games/c70/c7070c9ee7e1d4493feb446dd7a10309.jpg\").\n",
      "image(totally-reliable-delivery-service, \"https://media.rawg.io/media/screenshots/253/25378cb362ba095ccc1062fed2136ede.jpg\").\n",
      "image(zumas-revenge, \"https://media.rawg.io/media/screenshots/3eb/3eb918422509a15405e723cf18cddc34.jpg\").\n",
      "image(fe, \"https://media.rawg.io/media/games/80a/80a336506a4bd7921ea6f3f81ef7d98d.jpg\").\n",
      "image(fight-night-champion, \"https://media.rawg.io/media/games/907/9072a603448c13e1223b53dcc8019cca.jpg\").\n",
      "image(viva-pinata-tip, \"https://media.rawg.io/media/screenshots/81e/81e17d5b2a1cb89835234fe2d28950bd.jpg\").\n",
      "image(doom-64, \"https://media.rawg.io/media/screenshots/f7a/f7a19f45bbe8dfb2960ce167ad879d3e.jpg\").\n",
      "image(crown-trick, \"https://media.rawg.io/media/games/d94/d9406db56b580415379a33d3a16c66e0.jpg\").\n",
      "image(aliens-fireteam, \"https://media.rawg.io/media/games/bb8/bb8a1de04cf151b55bcb9b5a38ba9a0b.jpg\").\n",
      "image(lawn-mowing-simulator, \"https://media.rawg.io/media/screenshots/643/643a3dd6aba644d35f2c6476ce10ef60.jpg\").\n",
      "image(neoverse-2, \"https://media.rawg.io/media/games/75a/75a24fe7a7c5d421f4077dcce8962b11.jpg\").\n",
      "image(crysis-remastered, \"https://media.rawg.io/media/games/3e4/3e42278fa5e9a85f4cd3d3ed4355a9f2.jpg\").\n",
      "image(zuma, \"https://media.rawg.io/media/screenshots/593/5936a7fb9b53cd38341957cbf03be625.jpg\").\n",
      "image(embr, \"https://media.rawg.io/media/screenshots/f3c/f3c3687da806da7769cea303467d5a79.jpg\").\n",
      "image(banjo-tooie, \"https://media.rawg.io/media/screenshots/84d/84d128e39e3d57a040c1ae21607135bb.jpg\").\n",
      "image(new-super-luckys-tale, \"https://media.rawg.io/media/screenshots/880/880ca9c8cb5b3270c719c0202f27f2a7.jpg\").\n",
      "image(chivalry-2, \"https://media.rawg.io/media/screenshots/d3e/d3ed3ab5f11f8f6294dd561c16dccdf8.jpg\").\n",
      "image(rocket-arena-2, \"https://media.rawg.io/media/games/69d/69d984a5952c3f471792abf19606533f.jpg\").\n",
      "image(f1-2021, \"https://media.rawg.io/media/games/882/8820b0bc5ec9c135aca22389d105b566.jpg\").\n",
      "image(as-dusk-falls, \"https://media.rawg.io/media/games/0eb/0eb6673637d877b09a9a1f9aa6e25db4.jpg\").\n",
      "image(lost-in-random, \"https://media.rawg.io/media/games/f7e/f7ed6cf588d66eab5bb3872dc1ddcd78.jpg\").\n",
      "image(chorus, \"https://media.rawg.io/media/games/656/656bf6751565fe441af18db27be92b12.jpg\").\n",
      "image(the-riftbreaker, \"https://media.rawg.io/media/games/97d/97d257af0b770c67c92b523f8900c783.jpg\").\n",
      "image(exo-one, \"https://media.rawg.io/media/games/d9f/d9f967e0abfd90eaece03c36d4bb5878.jpg\").\n",
      "image(far-changing-tides, \"https://media.rawg.io/media/games/d70/d70084559f41e7a7d4b1cc441c163763.jpg\").\n",
      "image(empire-of-sin, \"https://media.rawg.io/media/games/7a5/7a578aecba92b011053b66ac79e73703.jpg\").\n",
      "image(skatebird, \"https://media.rawg.io/media/screenshots/687/687dba2775a86b54ec90b32005857135.jpg\").\n",
      "image(cooking-simulator, \"https://media.rawg.io/media/screenshots/a85/a85692b735a17d9b5996ac393924b5a9.jpg\").\n",
      "image(bleeding-edge, \"https://media.rawg.io/media/games/8b1/8b17ae36874ae78206449810ffecc180.jpg\").\n",
      "image(jetpac-refuelled, \"https://media.rawg.io/media/games/ddd/ddda5ad6ac893b453dfc6fc2cd1525ff.jpg\").\n",
      "image(solasta-crown-of-the-magister, \"https://media.rawg.io/media/games/1d6/1d65bc7a33b90263aae066abe32b5754.jpg\").\n",
      "image(aragami-2, \"https://media.rawg.io/media/games/0d4/0d483b51813737f40163c501ed123cb5.jpg\").\n",
      "image(two-point-campus, \"https://media.rawg.io/media/games/bde/bdedc180d7e2bca40fd105980d74b452.jpg\").\n",
      "image(feeding-frenzy, \"https://media.rawg.io/media/screenshots/4ad/4ad2befeb01eb322d4594e5268a16067.jpg\").\n",
      "image(midnight-fight-express, \"https://media.rawg.io/media/games/cd2/cd28a066e3a8d602e1ebbff8111fd10a.jpg\").\n",
      "image(edge-of-eternity, \"https://media.rawg.io/media/games/295/2959ee1a7bb55a7258cc5406b91c50bc.jpg\").\n",
      "image(heavy-weapon, \"https://media.rawg.io/media/screenshots/f70/f70b50b640d876961a2da13020d4c77d_w2hIBYR.jpg\").\n",
      "image(jurassic-world-evolution-2-2, \"https://media.rawg.io/media/games/647/64797fe9358aa3c7ddc4ff36f89e4382.jpg\").\n",
      "image(backbone, \"https://media.rawg.io/media/games/639/63907c46573df93d2d2f65e9fff4f284.jpg\").\n",
      "image(lake, \"https://media.rawg.io/media/games/273/27334516074f7b017a128b187e20b8a5.jpg\").\n",
      "image(bejeweled-2, \"https://media.rawg.io/media/screenshots/d52/d52a59d2304947b2be1e3a9989e25bed.jpg\").\n",
      "image(grid-legends, \"https://media.rawg.io/media/games/8cb/8cbf9a1735ae48b70b9aba5f82ab56da.jpg\").\n",
      "image(naraka-bladepoint, \"https://media.rawg.io/media/games/75e/75e95dc8d5b290f6875062af6b35fb59.jpg\").\n",
      "image(disc-room-2, \"https://media.rawg.io/media/games/f88/f88d992e78f533684f1965bee823f062.jpg\").\n",
      "image(farming-simulator-22, \"https://media.rawg.io/media/games/dd9/dd90964966f6bf9b0bd635be432fbf8a.jpg\").\n",
      "image(immortality, \"https://media.rawg.io/media/games/7df/7df4efb7075152f421edbf651f3a9c0c.jpg\").\n",
      "image(screamride, \"https://media.rawg.io/media/screenshots/da0/da015745ca82dff413d419e3783da7a0.jpg\").\n",
      "image(shredders, \"https://media.rawg.io/media/games/33a/33ae2d5494b41bd5703dee6bd185b270.jpg\").\n",
      "image(dreamscaper-2, \"https://media.rawg.io/media/games/785/78596308d98b093b05d54f6f1df48053.jpg\").\n",
      "image(escape-academy, \"https://media.rawg.io/media/games/046/046a0d88df42efb3a5c080af9ad91e65.jpg\").\n",
      "image(tinykin, \"https://media.rawg.io/media/games/2a3/2a35da986abc10082c27c3d230ccf1e1.jpg\").\n",
      "image(a-memoir-blue, \"https://media.rawg.io/media/games/ec2/ec2eabf6162f34565d2fc02befe371be.jpg\").\n",
      "image(madden-nfl-21, \"https://media.rawg.io/media/games/151/151207c420827db4645b4f675e4c2fc5.jpg\").\n",
      "image(mechwarrior-5-mercenaries, \"https://media.rawg.io/media/games/ba2/ba27ddbd28606e4ef8f694298c0fd67f.jpg\").\n",
      "image(recompile, \"https://media.rawg.io/media/screenshots/b6c/b6c21a9548977e34ea62fde1d6ea5612.jpg\").\n",
      "image(you-suck-at-parking, \"https://media.rawg.io/media/screenshots/ccb/ccb8e9ca457b2a41e9f27bcc1f02f5a3.jpg\").\n",
      "image(citizen-sleeper, \"https://media.rawg.io/media/games/391/391954934d459b8fe78d87a8a68c71c6.jpg\").\n",
      "image(ea-sports-rory-mcilroy-pga-tour, \"https://media.rawg.io/media/screenshots/303/303f2a0379cbb7ad7ee33e3f6542e812_OqEOk8n.jpg\").\n",
      "image(eiyuden-chronicle-rising, \"https://media.rawg.io/media/games/e77/e77462cb5eb12827d0506c6c6feedbc0.jpg\").\n",
      "image(flynn-son-of-crimson, \"https://media.rawg.io/media/screenshots/1ed/1ed69a78ea0237bbccd7b12b118396c2.jpg\").\n",
      "image(power-rangers-battle-for-the-grid, \"https://media.rawg.io/media/games/7f5/7f5972ab99f48b84b770dea1edd2f5c5.jpg\").\n",
      "image(wasteland-remastered, \"https://media.rawg.io/media/screenshots/bee/beee405ab29d38db7cc6064e4dafbbaa.jpg\").\n",
      "image(ninja-gaiden-3, \"https://media.rawg.io/media/games/c6e/c6e59ac06976a364c1e8ed3b90d5b0a5.jpg\").\n",
      "image(dead-space-ignition, \"https://media.rawg.io/media/screenshots/713/713b04076ad38438a01d903eb1fb5c84.jpg\").\n",
      "image(pupperazzi, \"https://media.rawg.io/media/screenshots/da3/da34969a740bd48ea8d5be8d4ec64954.jpg\").\n",
      "image(young-souls, \"https://media.rawg.io/media/games/70a/70a009eae06ac608b9d8274125e68bb4.jpg\").\n",
      "image(my-friend-peppa-pig, \"https://media.rawg.io/media/games/8df/8df18af38346f2a208d355daf7246d11.jpg\").\n",
      "image(mighty-goose, \"https://media.rawg.io/media/screenshots/b76/b761b37e518d4578f1abffc7587e25bd.jpg\").\n",
      "image(black, \"https://media.rawg.io/media/games/7fe/7fee01c7f226292be9a27cdc45ee3691.jpg\").\n",
      "image(bug-fables, \"https://media.rawg.io/media/screenshots/82f/82f152cf71e5055a4119363998efd13c.jpg\").\n",
      "image(olija, \"https://media.rawg.io/media/screenshots/0fc/0fcc689d1c0018846a901914fe4742f4.jpg\").\n",
      "image(phoenix-point, \"https://media.rawg.io/media/games/a35/a35b768cd1cfabf5cc1837763d9648af.jpg\").\n",
      "image(archvale, \"https://media.rawg.io/media/screenshots/70d/70d59d4c32d3c7f925bf5e7502f5bfe9.jpg\").\n",
      "image(windjammers-2, \"https://media.rawg.io/media/games/445/4454ca9ba9b2e251ab2fa63354558b8a.jpg\").\n",
      "image(feeding-frenzy-2, \"https://media.rawg.io/media/screenshots/e92/e925675403902177874a4f7ab463e6c7.jpg\").\n",
      "image(yakuza-remastered-collection, \"https://media.rawg.io/media/games/5c5/5c57884270513c4baf3ad0d43a869ffe.jpg\").\n",
      "image(lost-words-beyond-the-page, \"https://media.rawg.io/media/screenshots/08b/08beb85ebdd1d418ce08863bce0846a5.jpg\").\n",
      "image(ben-10-power-trip, \"https://media.rawg.io/media/screenshots/438/4386fdc13fa355b57303c9a89507964f.jpg\").\n",
      "image(space-warlord-organ-trading-simulator, \"https://media.rawg.io/media/screenshots/af1/af123c33ea2a76602d5b9b1741adaa48.jpg\").\n",
      "image(nhl-21, \"https://media.rawg.io/media/games/576/5764a182aafe5b5fddc25fdfd15170d6.jpg\").\n",
      "image(moonscars, \"https://media.rawg.io/media/screenshots/236/236729a999d0be4cb3c60297d264492a.jpg\").\n",
      "image(beacon-pines, \"https://media.rawg.io/media/games/384/3840fdbb91612c81db98176a4c1e7a8d.jpg\").\n",
      "image(infernax, \"https://media.rawg.io/media/games/38f/38fe875c8621c7f7e7d81209576c1362.jpg\").\n",
      "image(the-gunk, \"https://media.rawg.io/media/screenshots/364/36414526a440e61da80716ae1ec11136.jpg\").\n",
      "image(super-mega-baseball-3, \"https://media.rawg.io/media/games/63a/63adb258d31d291ee53168327de6294b.jpg\").\n",
      "image(loot-river, \"https://media.rawg.io/media/screenshots/0e1/0e1bdc71ba5de3a7403ad9882c31ce36.jpg\").\n",
      "image(nhl-94-rewind, \"https://media.rawg.io/media/screenshots/7ca/7ca661636eac4dc119f14e25cd67a3eb.jpg\").\n",
      "image(undungeon-2, \"https://media.rawg.io/media/screenshots/b2d/b2d14dcea835b45fe6b35a856f0fec26.jpg\").\n",
      "image(fuga-melodies-of-steel, \"https://media.rawg.io/media/screenshots/128/1286f376596f7cdf7da6fc2708626cfa.jpg\").\n",
      "image(madden-nfl-22, \"https://media.rawg.io/media/games/2c9/2c90a3f77378fca124519365cf347924.jpg\").\n",
      "image(moonglow-bay, \"https://media.rawg.io/media/screenshots/674/6740ddd051de766ebd3e34d1cb5e1a65.jpg\").\n",
      "image(chinatown-detective-agency, \"https://media.rawg.io/media/games/1d9/1d9f674e4fc3bb73f036b50092cb9862.jpg\").\n",
      "image(ufc-4, \"https://media.rawg.io/media/games/263/263f39f29a81c68a120e4f1559682dad.jpg\").\n",
      "image(the-anacrusis, \"https://media.rawg.io/media/games/d27/d275ae07be7d308bbd020fd719ce8910.jpg\").\n",
      "image(race-with-ryan, \"https://media.rawg.io/media/screenshots/cd8/cd8da23d3df12f5beaf7df2da2a9cf93.jpg\").\n",
      "image(anvil, \"https://media.rawg.io/media/screenshots/62d/62d50fa26fa65f212e5bbb00413e455c.jpg\").\n",
      "image(immortal-realms-vampire-wars, \"https://media.rawg.io/media/screenshots/e4e/e4ef36ba607fb8a2493526c94d6e450e.jpg\").\n",
      "image(the-last-kids-on-earth-and-the-staff-of-doom, \"https://media.rawg.io/media/screenshots/bdb/bdbf7cb7f5c0c6717243bf35b3324a08.jpg\").\n",
      "image(transformers-battlegrounds, \"https://media.rawg.io/media/games/7b5/7b5d8272343cc5c142f967c1191c55e9.jpg\").\n",
      "image(floppy-knights, \"https://media.rawg.io/media/screenshots/63f/63fb52de1d20952fdf9fe0ec08285ab9.jpg\").\n",
      "image(cricket-22, \"https://media.rawg.io/media/screenshots/3fd/3fd46d71f44e3e389b6b4d46d9c950df.jpg\").\n",
      "image(bassmaster-fishing-2022, \"https://media.rawg.io/media/screenshots/824/824f6784c1a7bea5eb0d63c89d1a6bc7.jpg\").\n",
      "image(blinx, \"https://media.rawg.io/media/screenshots/753/753926f80864b9fb386281097d8a4cf0.jpg\").\n",
      "image(ghostbusters-spirits-unleashed, \"https://media.rawg.io/media/games/351/351b4c4c88e51e461e63d1b6f2080fb2.jpg\").\n",
      "image(motogp-22, \"https://media.rawg.io/media/screenshots/d22/d226e97c3afcc046d11cc331a557bddc.jpg\").\n",
      "image(crimson-skies-high-road-to-revenge, \"https://media.rawg.io/media/screenshots/f1f/f1ff8c25a2511c387e2d8633f55abc4d.jpg\").\n",
      "image(grid-3, \"None\").\n",
      "image(just-cause-4-reloaded, \"https://media.rawg.io/media/screenshots/90d/90dff81acf29733d413a4de86c19929f.jpg\").\n",
      "image(pac-man-museum-2, \"https://media.rawg.io/media/screenshots/7e3/7e33ef6b70ad48eac6c09000bc1e7ca3.jpg\").\n",
      "image(paw-patrol-the-movie-adventure-city-calls, \"https://media.rawg.io/media/screenshots/cbc/cbc1435fd40efda19faf2e94679e9675.jpg\").\n",
      "image(nhl-22, \"https://media.rawg.io/media/games/975/975a844185ff056cbc0be2b10608b851.jpg\").\n",
      "image(mlb-the-show-22, \"https://media.rawg.io/media/games/2f3/2f3dc3636d8211a42f8a0d151ee43562.jpg\").\n",
      "image(the-bards-tale-arpg-remastered-and-resnarkled, \"https://media.rawg.io/media/screenshots/814/814b9c75ff1a1d0025244a2a50f8dce4.jpg\").\n"
     ]
    }
   ],
   "source": [
    "print('\\n'.join([f\"image({game['slug']}, \\\"{game['background_image']}\\\").\" for game in found_games]))"
   ]
  },
  {
   "cell_type": "code",
   "execution_count": 8,
   "metadata": {},
   "outputs": [
    {
     "data": {
      "text/plain": [
       "dict_keys(['slug', 'name', 'playtime', 'platforms', 'stores', 'released', 'tba', 'background_image', 'rating', 'rating_top', 'ratings', 'ratings_count', 'reviews_text_count', 'added', 'added_by_status', 'metacritic', 'suggestions_count', 'updated', 'id', 'score', 'clip', 'tags', 'esrb_rating', 'user_game', 'reviews_count', 'saturated_color', 'dominant_color', 'short_screenshots', 'parent_platforms', 'genres'])"
      ]
     },
     "execution_count": 8,
     "metadata": {},
     "output_type": "execute_result"
    }
   ],
   "source": [
    "found_games[0].keys()"
   ]
  },
  {
   "cell_type": "code",
   "execution_count": null,
   "metadata": {},
   "outputs": [],
   "source": []
  }
 ],
 "metadata": {
  "kernelspec": {
   "display_name": "Python 3.9.10 ('base')",
   "language": "python",
   "name": "python3"
  },
  "language_info": {
   "codemirror_mode": {
    "name": "ipython",
    "version": 3
   },
   "file_extension": ".py",
   "mimetype": "text/x-python",
   "name": "python",
   "nbconvert_exporter": "python",
   "pygments_lexer": "ipython3",
   "version": "3.9.10"
  },
  "orig_nbformat": 4,
  "vscode": {
   "interpreter": {
    "hash": "0d7d4db0a1cfb03b8f592437925452112c263745f16979c55c6eaf2bdf27fbce"
   }
  }
 },
 "nbformat": 4,
 "nbformat_minor": 2
}
